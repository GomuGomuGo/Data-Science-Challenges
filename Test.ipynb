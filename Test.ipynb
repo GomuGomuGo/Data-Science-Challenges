{
 "cells": [
  {
   "cell_type": "code",
   "execution_count": 2,
   "metadata": {},
   "outputs": [],
   "source": [
    "data(cars)"
   ]
  },
  {
   "cell_type": "code",
   "execution_count": 3,
   "metadata": {},
   "outputs": [
    {
     "data": {
      "text/html": [
       "<table>\n",
       "<thead><tr><th scope=col>speed</th><th scope=col>dist</th></tr></thead>\n",
       "<tbody>\n",
       "\t<tr><td>4 </td><td> 2</td></tr>\n",
       "\t<tr><td>4 </td><td>10</td></tr>\n",
       "\t<tr><td>7 </td><td> 4</td></tr>\n",
       "\t<tr><td>7 </td><td>22</td></tr>\n",
       "\t<tr><td>8 </td><td>16</td></tr>\n",
       "\t<tr><td>9 </td><td>10</td></tr>\n",
       "</tbody>\n",
       "</table>\n"
      ],
      "text/latex": [
       "\\begin{tabular}{r|ll}\n",
       " speed & dist\\\\\n",
       "\\hline\n",
       "\t 4  &  2\\\\\n",
       "\t 4  & 10\\\\\n",
       "\t 7  &  4\\\\\n",
       "\t 7  & 22\\\\\n",
       "\t 8  & 16\\\\\n",
       "\t 9  & 10\\\\\n",
       "\\end{tabular}\n"
      ],
      "text/markdown": [
       "\n",
       "speed | dist | \n",
       "|---|---|---|---|---|---|\n",
       "| 4  |  2 | \n",
       "| 4  | 10 | \n",
       "| 7  |  4 | \n",
       "| 7  | 22 | \n",
       "| 8  | 16 | \n",
       "| 9  | 10 | \n",
       "\n",
       "\n"
      ],
      "text/plain": [
       "  speed dist\n",
       "1 4      2  \n",
       "2 4     10  \n",
       "3 7      4  \n",
       "4 7     22  \n",
       "5 8     16  \n",
       "6 9     10  "
      ]
     },
     "metadata": {},
     "output_type": "display_data"
    }
   ],
   "source": [
    "head(cars)"
   ]
  },
  {
   "cell_type": "code",
   "execution_count": null,
   "metadata": {},
   "outputs": [],
   "source": []
  }
 ],
 "metadata": {
  "kernelspec": {
   "display_name": "R",
   "language": "R",
   "name": "ir"
  },
  "language_info": {
   "codemirror_mode": "r",
   "file_extension": ".r",
   "mimetype": "text/x-r-source",
   "name": "R",
   "pygments_lexer": "r",
   "version": "3.5.1"
  }
 },
 "nbformat": 4,
 "nbformat_minor": 2
}
